{
 "cells": [
  {
   "cell_type": "markdown",
   "metadata": {},
   "source": [
    "# Imports"
   ]
  },
  {
   "cell_type": "code",
   "execution_count": 1,
   "metadata": {},
   "outputs": [],
   "source": [
    "from alphabetic import WritingSystem, JsonUtils"
   ]
  },
  {
   "cell_type": "markdown",
   "metadata": {},
   "source": [
    "### Create a WritingSystem instance to access all core functions"
   ]
  },
  {
   "cell_type": "code",
   "execution_count": 2,
   "metadata": {},
   "outputs": [],
   "source": [
    "ws = WritingSystem()"
   ]
  },
  {
   "cell_type": "markdown",
   "metadata": {},
   "source": [
    "# Retrieve scripts"
   ]
  },
  {
   "cell_type": "markdown",
   "metadata": {},
   "source": [
    "### Alphabets"
   ]
  },
  {
   "cell_type": "code",
   "execution_count": 3,
   "metadata": {},
   "outputs": [
    {
     "name": "stdout",
     "output_type": "stream",
     "text": [
      "A B C D E F G H I J K L M N O P Q R S T U V W X Y Z a b c d e f g h i j k l m n o p q r s t u v w x y z À Â Ã Ä Å È É Ê Î Ò Ó Ô Ö Û Ü à â ã ä å è é ê î ò ó ô ö û ü Ă ă Ĕ ĕ Ŏ ŏ Ẽ ẽ\n"
     ]
    }
   ],
   "source": [
    "ws.pretty_print(ws.by_language(ws.Language.Bavarian))"
   ]
  },
  {
   "cell_type": "code",
   "execution_count": 4,
   "metadata": {},
   "outputs": [
    {
     "name": "stdout",
     "output_type": "stream",
     "text": [
      "A B C D E F G H I J K L M N O P Q R S T U V W X Y Z a b c d e f g h i j k l m n o p q r s t u v w x y z Ä Å Ö ä å ö\n"
     ]
    }
   ],
   "source": [
    "ws.pretty_print(ws.by_language(ws.Language.Finnish))"
   ]
  },
  {
   "cell_type": "code",
   "execution_count": 5,
   "metadata": {},
   "outputs": [
    {
     "name": "stdout",
     "output_type": "stream",
     "text": [
      "A Ch E G G̃ H I J K L M Mb N Nd Ng Nt O P R Rr S T U V Y a ch e g g̃ h i j k l m mb n nd ng nt o p r rr s t u v y Ã Ñ Õ ã ñ õ Ĩ ĩ Ũ ũ ʼ Ẽ ẽ Ỹ ỹ\n"
     ]
    }
   ],
   "source": [
    "ws.pretty_print(ws.by_language(ws.Language.Guarani))"
   ]
  },
  {
   "cell_type": "code",
   "execution_count": 6,
   "metadata": {},
   "outputs": [
    {
     "name": "stdout",
     "output_type": "stream",
     "text": [
      "A B C D E F G H I J K L M N O P Q R S T U V W X Y Z a b c d dz e f g h i j k l lj m n nj o p q qu r s t u v w x y z Â Å â å Ć ć Č č Đ đ Ę ę Š š Ž ž\n"
     ]
    }
   ],
   "source": [
    "ws.pretty_print(ws.by_language(ws.Language.Istro_Romanian))"
   ]
  },
  {
   "cell_type": "markdown",
   "metadata": {},
   "source": [
    "### Syllabaries"
   ]
  },
  {
   "cell_type": "code",
   "execution_count": 7,
   "metadata": {},
   "outputs": [
    {
     "name": "stdout",
     "output_type": "stream",
     "text": [
      "ሀ ሁ ሂ ሃ ሄ ህ ሆ ለ ሉ ሊ ላ ሌ ል ሎ ሏ ሐ ሑ ሒ ሓ ሔ ሕ ሖ ሗ መ ሙ ሚ ማ ሜ ም ሞ ሟ ሠ ሡ ሢ ሣ ሤ ሥ ሦ ሧ ረ ሩ ሪ ራ ሬ ር ሮ ሯ ሰ ሱ ሲ ሳ ሴ ስ ሶ ሷ ቀ ቁ ቂ ቃ ቄ ቅ ቆ ቇ ቈ ቊ ቋ ቌ ቍ ቘ ቚ ቛ ቜ ቝ በ ቡ ቢ ባ ቤ ብ ቦ ቧ ተ ቱ ቲ ታ ቴ ት ቶ ቷ ኀ ኁ ኂ ኃ ኄ ኅ ኆ ኇ ኈ ኊ ኋ ኌ ኍ ነ ኑ ኒ ና ኔ ን ኖ ኗ አ ኡ ኢ ኣ ኤ እ ኦ ኧ ከ ኩ ኪ ካ ኬ ክ ኮ ኯ ኰ ኲ ኳ ኴ ኵ ወ ዉ ዊ ዋ ዌ ው ዎ ዏ ዐ ዑ ዒ ዓ ዔ ዕ ዖ ዘ ዙ ዚ ዛ ዜ ዝ ዞ ዟ የ ዩ ዪ ያ ዬ ይ ዮ ዯ ደ ዱ ዲ ዳ ዴ ድ ዶ ዷ ገ ጉ ጊ ጋ ጌ ግ ጎ ጏ ጐ ጒ ጓ ጔ ጕ ጠ ጡ ጢ ጣ ጤ ጥ ጦ ጧ ጰ ጱ ጲ ጳ ጴ ጵ ጶ ጷ ጸ ጹ ጺ ጻ ጼ ጽ ጾ ጿ ፀ ፁ ፂ ፃ ፄ ፅ ፆ ፇ ፈ ፉ ፊ ፋ ፌ ፍ ፎ ፏ ፐ ፑ ፒ ፓ ፔ ፕ ፖ ፗ ፘ ፙ ፚ\n"
     ]
    }
   ],
   "source": [
    "ws.pretty_print(ws.by_syllabary(syllabary=ws.Syllabary.Ethiopic))"
   ]
  },
  {
   "cell_type": "code",
   "execution_count": 8,
   "metadata": {},
   "outputs": [
    {
     "name": "stdout",
     "output_type": "stream",
     "text": [
      "𐊠 𐊡 𐊢 𐊣 𐊤 𐊥 𐊦 𐊧 𐊨 𐊩 𐊪 𐊫 𐊬 𐊭 𐊮 𐊯 𐊰 𐊱 𐊲 𐊳 𐊴 𐊵 𐊶 𐊷 𐊸 𐊹 𐊺 𐊻 𐊼 𐊽 𐊾 𐊿 𐋀 𐋁 𐋂 𐋃 𐋄 𐋅 𐋆 𐋇 𐋈 𐋉 𐋊 𐋋 𐋌 𐋍 𐋎 𐋏 𐋐\n"
     ]
    }
   ],
   "source": [
    "ws.pretty_print(ws.by_syllabary(syllabary=ws.Syllabary.Carian))"
   ]
  },
  {
   "cell_type": "code",
   "execution_count": 9,
   "metadata": {},
   "outputs": [
    {
     "name": "stdout",
     "output_type": "stream",
     "text": [
      "Ꭰ Ꭱ Ꭲ Ꭳ Ꭴ Ꭵ Ꭶ Ꭷ Ꭸ Ꭹ Ꭺ Ꭻ Ꭼ Ꭽ Ꭾ Ꭿ Ꮀ Ꮁ Ꮂ Ꮃ Ꮄ Ꮅ Ꮆ Ꮇ Ꮈ Ꮉ Ꮊ Ꮋ Ꮌ Ꮍ Ꮎ Ꮏ Ꮐ Ꮑ Ꮒ Ꮓ Ꮔ Ꮕ Ꮖ Ꮗ Ꮘ Ꮙ Ꮚ Ꮛ Ꮜ Ꮝ Ꮞ Ꮟ Ꮠ Ꮡ Ꮢ Ꮣ Ꮤ Ꮥ Ꮦ Ꮧ Ꮨ Ꮩ Ꮪ, Ꮫ Ꮬ Ꮭ Ꮮ Ꮯ Ꮰ Ꮱ Ꮲ Ꮳ Ꮴ Ꮵ Ꮶ Ꮷ Ꮸ Ꮹ Ꮺ Ꮻ Ꮼ Ꮽ Ꮾ Ꮿ Ᏸ Ᏹ Ᏺ Ᏻ Ᏼ Ᏽ\n"
     ]
    }
   ],
   "source": [
    "ws.pretty_print(ws.by_syllabary(syllabary=ws.Syllabary.Cherokee))"
   ]
  },
  {
   "cell_type": "code",
   "execution_count": 10,
   "metadata": {},
   "outputs": [
    {
     "name": "stdout",
     "output_type": "stream",
     "text": [
      "ア イ ウ エ オ カ キ ク ケ コ サ シ ス セ ソ タ チ ツ テ ト ナ ニ ヌ ネ ノ ハ ヒ フ ヘ ホ マ ミ ム メ モ ヤ ユ ヨ ラ リ ル レ ロ ワ ヲ ン\n"
     ]
    }
   ],
   "source": [
    "ws.pretty_print(ws.by_syllabary(syllabary=ws.Syllabary.Katakana))"
   ]
  },
  {
   "cell_type": "markdown",
   "metadata": {},
   "source": [
    "### Logographics "
   ]
  },
  {
   "cell_type": "code",
   "execution_count": 11,
   "metadata": {},
   "outputs": [
    {
     "name": "stdout",
     "output_type": "stream",
     "text": [
      "一 丁 七 万 丈 三 上 下 不 与 且 世 丘 丙 両 並 中 串 丸 丹 主 丼 久 乏 乗 乙 九 乞 乱 乳 乾 亀 了 予 争 事 二 互 五 井 亜 亡 交 享 京 亭 人 仁 今 介 仏 仕 他 付 仙 代 令 以 仮 仰 仲 件 任 企 伎 伏 伐 休 会 伝 伯 伴 伸 伺 似 但 位 低 住 佐 体 何 余 作 佳 併 使 例 侍 供 依 価 侮 侯 侵 侶 便 係 促 俊\n"
     ]
    }
   ],
   "source": [
    "print(*ws.by_logographic(ws.Logographic.Kanji, as_list=True)[:100])"
   ]
  },
  {
   "cell_type": "code",
   "execution_count": 12,
   "metadata": {},
   "outputs": [
    {
     "name": "stdout",
     "output_type": "stream",
     "text": [
      "㑇 㑊 㕮 㘎 㙍 㙘 㙦 㛃 㛚 㛹 㟃 㠇 㠓 㤘 㥄 㧐 㧑 㧟 㫰 㬊 㬎 㬚 㭎 㭕 㮾 㰀 㳇 㳘 㳚 㴔 㵐 㶲 㸆 㸌 㺄 㻬 㽏 㿠 䁖 䂮 䃅 䃎 䅟 䌹 䎃 䎖 䏝 䏡 䏲 䐃 䓖 䓛 䓨 䓫 䓬 䗖 䗛 䗪 䗴 䜣 䝙 䢺 䢼 䣘 䥽 䦃 䲟 䲠 䲢 䴓 䴔 䴕 䴖 䴗 䴘 䴙 䶮 一 丁 七 万 丈 三 上 下 不 与 丏 丐 丑 专 且 丕 世 丘 丙 业 丛 东 丝\n"
     ]
    }
   ],
   "source": [
    "print(*ws.by_logographic(ws.Logographic.Chinese_Simplified, as_list=True)[:100])"
   ]
  },
  {
   "cell_type": "markdown",
   "metadata": {},
   "source": [
    "### Abjad"
   ]
  },
  {
   "cell_type": "code",
   "execution_count": 13,
   "metadata": {},
   "outputs": [
    {
     "name": "stdout",
     "output_type": "stream",
     "text": [
      "א ב ג ד ה ו ז ח ט י כ ך ל מ ם נ ן ס ע פ ף צ ץ ק ר ש ת\n"
     ]
    }
   ],
   "source": [
    "ws.pretty_print(ws.by_abjad(abjad=ws.Abjad.Hebrew))"
   ]
  },
  {
   "cell_type": "code",
   "execution_count": 14,
   "metadata": {},
   "outputs": [
    {
     "name": "stdout",
     "output_type": "stream",
     "text": [
      "𐤀 𐤁 𐤂 𐤃 𐤄 𐤅 𐤆 𐤇 𐤈 𐤉 𐤊 𐤋 𐤌 𐤍 𐤎 𐤏 𐤐 𐤑 𐤒 𐤓 𐤔 𐤕\n"
     ]
    }
   ],
   "source": [
    "ws.pretty_print(ws.by_abjad(abjad=ws.Abjad.Phoenician))"
   ]
  },
  {
   "cell_type": "code",
   "execution_count": 15,
   "metadata": {},
   "outputs": [
    {
     "name": "stdout",
     "output_type": "stream",
     "text": [
      "ء ا الف ب بھ بے ت تھ تے ث ثے ج جيم جھ ح حے خ خے د دال دو دھ ذ ذال ر رھ رے ز زے س سین ش شین ص صاد ض ضاد ط طوئیں ظ ظوئیں ع عین غ غنّہ غین ف فے ق قاف ل لام لھ م مھ میم ن نون نکی نھ ه و واؤ وڈّی وھ يے ٹ ٹھ ٹے پ پھ پے چ چشمی چھ چھوٹی چے ڈ ڈال ڈھ ڑ ڑھ ڑے ژ ژے ک کاف کھ گ گاف گول گھ ھ ہمزہ ہے ی یھ ے ݨون ࣇام\n"
     ]
    }
   ],
   "source": [
    "ws.pretty_print(ws.by_abjad(abjad=ws.Abjad.Punjabi_Shahmukhi))"
   ]
  },
  {
   "cell_type": "code",
   "execution_count": 16,
   "metadata": {},
   "outputs": [
    {
     "name": "stdout",
     "output_type": "stream",
     "text": [
      "ا ب ة ت ث ج ح خ د ذ ر ز س ش ص ض ط ظ ع غ ف ق ك ل م ن ه و ي\n"
     ]
    }
   ],
   "source": [
    "ws.pretty_print(ws.by_abjad(abjad=ws.Abjad.Arabic))"
   ]
  },
  {
   "cell_type": "markdown",
   "metadata": {},
   "source": [
    "### Abugidas"
   ]
  },
  {
   "cell_type": "code",
   "execution_count": 17,
   "metadata": {},
   "outputs": [
    {
     "name": "stdout",
     "output_type": "stream",
     "text": [
      "ሀ ሁ ሂ ሃ ሄ ህ ሆ ለ ሉ ሊ ላ ሌ ል ሎ ሏ ሐ ሑ ሒ ሓ ሔ ሕ ሖ ሗ መ ሙ ሚ ማ ሜ ም ሞ ሟ ሠ ሡ ሢ ሣ ሤ ሥ ሦ ሧ ረ ሩ ሪ ራ ሬ ር ሮ ሯ ሰ ሱ ሲ ሳ ሴ ስ ሶ ሷ ሸ ሹ ሺ ሻ ሼ ሽ ሾ ሿ ቀ ቁ ቂ ቃ ቄ ቅ ቆ ቈ ቊ ቋ ቌ ቍ በ ቡ ቢ ባ ቤ ብ ቦ ቧ ቨ ቩ ቪ ቫ ቬ ቭ ቮ ቯ ተ ቱ ቲ ታ ቴ ት ቶ ቷ ቸ ቹ ቺ ቻ ቼ ች ቾ ቿ ኀ ኁ ኂ ኃ ኄ ኅ ኆ ኈ ኊ ኋ ኌ ኍ ነ ኑ ኒ ና ኔ ን ኖ ኗ ኘ ኙ ኚ ኛ ኜ ኝ ኞ ኟ አ ኡ ኢ ኣ ኤ እ ኦ ኧ ከ ኩ ኪ ካ ኬ ክ ኮ ኰ ኲ ኳ ኴ ኵ ኸ ኹ ኺ ኻ ኼ ኽ ኾ ዀ ዂ ዃ ዄ ዅ ወ ዉ ዊ ዋ ዌ ው ዎ ዐ ዑ ዒ ዓ ዔ ዕ ዖ ዘ ዙ ዚ ዛ ዜ ዝ ዞ ዟ ዠ ዡ ዢ ዣ ዤ ዥ ዦ ዧ የ ዩ ዪ ያ ዬ ይ ዮ ደ ዱ ዲ ዳ ዴ ድ ዶ ዷ ጀ ጁ ጂ ጃ ጄ ጅ ጆ ጇ ገ ጉ ጊ ጋ ጌ ግ ጎ ጐ ጒ ጓ ጔ ጕ ጠ ጡ ጢ ጣ ጤ ጥ ጦ ጧ ጨ ጩ ጪ ጫ ጬ ጭ ጮ ጯ ጰ ጱ ጲ ጳ ጴ ጵ ጶ ጷ ጸ ጹ ጺ ጻ ጼ ጽ ጾ ጿ ፀ ፁ ፂ ፃ ፄ ፅ ፆ ፈ ፉ ፊ ፋ ፌ ፍ ፎ ፏ ፐ ፑ ፒ ፓ ፔ ፕ ፖ ፗ\n"
     ]
    }
   ],
   "source": [
    "ws.pretty_print(ws.by_abugida(abugida=ws.Abugida.Amharic))"
   ]
  },
  {
   "cell_type": "code",
   "execution_count": 18,
   "metadata": {},
   "outputs": [
    {
     "name": "stdout",
     "output_type": "stream",
     "text": [
      "অ অʼ আ ই ঈ উ ঊ ঋ এ ঐ ও ঔ ক ক্ষ খ গ ঘ ঙ চ ছ জ ঝ ঞ ট ঠ ড ড় ঢ ঢ় ণ ত থ দ ধ ন প ফ ব ভ ম য য় ল শ ষ স হ ৰ ৱ ় ঽ া ি ী ু ূ ৃ ৄ ে ৈ ো ৌ ্ ৎ ৗ ཨ\n"
     ]
    }
   ],
   "source": [
    "ws.pretty_print(ws.by_abugida(abugida=ws.Abugida.Assamese))"
   ]
  },
  {
   "cell_type": "code",
   "execution_count": 19,
   "metadata": {},
   "outputs": [
    {
     "name": "stdout",
     "output_type": "stream",
     "text": [
      "क ख ग घ ङ च छ ज झ ञ ट ठ ड ढ ण त थ द ध न प फ ब भ म य र ल ळ व श ष स ह ा ि ी ु ू ृ े ै ो ौ ् ਂ ਾ ਿ ੀ ੁ ੂ ੇ ੈ ੋ ੌ ੰ ੱ\n"
     ]
    }
   ],
   "source": [
    "ws.pretty_print(ws.by_abugida(abugida=ws.Abugida.Devanagari))"
   ]
  },
  {
   "cell_type": "code",
   "execution_count": 20,
   "metadata": {},
   "outputs": [
    {
     "name": "stdout",
     "output_type": "stream",
     "text": [
      "ँ ं ः ् अ अँ अं अः आ इ ई उ ऊ ऋ ए ऐ ओ औ क क्त क्र क्ष ख ग घ ङ ङ्क ङ्ख ङ्ग ङ्घ च छ ज ज्ञ झ ञ ट ट्ट ट्ठ ट्र ठ ठ्ठ ड ड्ड ड्ढ ड्र ढ ण त त्त त्र थ द द्द द्ध द्म द्य द्र ध ध्र न न्न प प्र फ ब भ म य र र्य र्ह र्‍य​ ल व श श्र ष स ह ह्र ा ि ी ु ू ृ े ै ो ौ\n"
     ]
    }
   ],
   "source": [
    "ws.pretty_print(ws.by_abugida(abugida=ws.Abugida.Nepali))"
   ]
  },
  {
   "cell_type": "markdown",
   "metadata": {},
   "source": [
    "## Script type checks"
   ]
  },
  {
   "cell_type": "code",
   "execution_count": 21,
   "metadata": {},
   "outputs": [
    {
     "data": {
      "text/plain": [
       "True"
      ]
     },
     "execution_count": 21,
     "metadata": {},
     "output_type": "execute_result"
    }
   ],
   "source": [
    "ws.is_abjad(\"תוצר של ניהול כושל\")"
   ]
  },
  {
   "cell_type": "code",
   "execution_count": 22,
   "metadata": {},
   "outputs": [
    {
     "data": {
      "text/plain": [
       "True"
      ]
     },
     "execution_count": 22,
     "metadata": {},
     "output_type": "execute_result"
    }
   ],
   "source": [
    "ws.is_abjad(\"عملية عسكرية\")"
   ]
  },
  {
   "cell_type": "code",
   "execution_count": 23,
   "metadata": {},
   "outputs": [
    {
     "data": {
      "text/plain": [
       "True"
      ]
     },
     "execution_count": 23,
     "metadata": {},
     "output_type": "execute_result"
    }
   ],
   "source": [
    "ws.is_abugida(\"तोक्मायुओ\")"
   ]
  },
  {
   "cell_type": "code",
   "execution_count": 24,
   "metadata": {},
   "outputs": [
    {
     "data": {
      "text/plain": [
       "True"
      ]
     },
     "execution_count": 24,
     "metadata": {},
     "output_type": "execute_result"
    }
   ],
   "source": [
    "ws.is_abugida(\"ਸਅਅਕਅ\")"
   ]
  },
  {
   "cell_type": "code",
   "execution_count": 25,
   "metadata": {},
   "outputs": [
    {
     "data": {
      "text/plain": [
       "True"
      ]
     },
     "execution_count": 25,
     "metadata": {},
     "output_type": "execute_result"
    }
   ],
   "source": [
    "ws.is_alphabet(\"uno de los mayores\")"
   ]
  },
  {
   "cell_type": "code",
   "execution_count": 26,
   "metadata": {},
   "outputs": [
    {
     "data": {
      "text/plain": [
       "True"
      ]
     },
     "execution_count": 26,
     "metadata": {},
     "output_type": "execute_result"
    }
   ],
   "source": [
    "ws.is_alphabet(\"théâtres célèbres y sont nés\")"
   ]
  },
  {
   "cell_type": "code",
   "execution_count": 27,
   "metadata": {},
   "outputs": [
    {
     "data": {
      "text/plain": [
       "True"
      ]
     },
     "execution_count": 27,
     "metadata": {},
     "output_type": "execute_result"
    }
   ],
   "source": [
    "ws.is_syllabary(\"アクセサ\")"
   ]
  },
  {
   "cell_type": "code",
   "execution_count": 28,
   "metadata": {},
   "outputs": [
    {
     "data": {
      "text/plain": [
       "True"
      ]
     },
     "execution_count": 28,
     "metadata": {},
     "output_type": "execute_result"
    }
   ],
   "source": [
    "ws.is_syllabary(\"ለአሰስሎ\")"
   ]
  },
  {
   "cell_type": "code",
   "execution_count": 29,
   "metadata": {},
   "outputs": [
    {
     "data": {
      "text/plain": [
       "True"
      ]
     },
     "execution_count": 29,
     "metadata": {},
     "output_type": "execute_result"
    }
   ],
   "source": [
    "ws.is_logographic(\"语教学出版社\")"
   ]
  },
  {
   "cell_type": "code",
   "execution_count": 30,
   "metadata": {},
   "outputs": [
    {
     "data": {
      "text/plain": [
       "True"
      ]
     },
     "execution_count": 30,
     "metadata": {},
     "output_type": "execute_result"
    }
   ],
   "source": [
    "ws.is_logographic(\"和製漢語\")"
   ]
  },
  {
   "cell_type": "code",
   "execution_count": 31,
   "metadata": {},
   "outputs": [
    {
     "data": {
      "text/plain": [
       "True"
      ]
     },
     "execution_count": 31,
     "metadata": {},
     "output_type": "execute_result"
    }
   ],
   "source": [
    "ws.is_featural(\"랑이와 곶\")"
   ]
  },
  {
   "cell_type": "markdown",
   "metadata": {},
   "source": [
    "## Internal json file operations"
   ]
  },
  {
   "cell_type": "markdown",
   "metadata": {},
   "source": [
    "#### Add a new language to the internal json file"
   ]
  },
  {
   "cell_type": "code",
   "execution_count": null,
   "metadata": {
    "scrolled": true
   },
   "outputs": [],
   "source": [
    "# Paste the entire script of the language here...\n",
    "data = \"\"\"\n",
    "\n",
    "\"\"\".strip().split()\n",
    "\n",
    "data = sorted(set(data))\n",
    "\n",
    "print(*data)\n",
    "print()\n",
    "print(len(data))\n",
    "print()\n",
    "print(str(data).replace(\"'\", '\"'))"
   ]
  },
  {
   "cell_type": "markdown",
   "metadata": {},
   "source": [
    "#### Save the new script to the internal json file"
   ]
  },
  {
   "cell_type": "code",
   "execution_count": null,
   "metadata": {},
   "outputs": [],
   "source": [
    "# JsonUtils.update_lang_json_file(\"bar\", data)"
   ]
  },
  {
   "cell_type": "markdown",
   "metadata": {},
   "source": [
    "#### Delete a language entry from the internal json file"
   ]
  },
  {
   "cell_type": "code",
   "execution_count": null,
   "metadata": {},
   "outputs": [],
   "source": [
    "# JsonUtils.del_entry_from_jsonfile(JsonFile.Alphabet, \"xxx\")"
   ]
  },
  {
   "cell_type": "markdown",
   "metadata": {},
   "source": [
    "#### Load internal json file into a dictionary"
   ]
  },
  {
   "cell_type": "code",
   "execution_count": null,
   "metadata": {},
   "outputs": [],
   "source": [
    "# print(JsonUtils.load_dict_from_jsonfile(JsonFile.LatinScriptCode))"
   ]
  },
  {
   "cell_type": "markdown",
   "metadata": {},
   "source": [
    "# Supported languages"
   ]
  },
  {
   "cell_type": "code",
   "execution_count": 32,
   "metadata": {},
   "outputs": [
    {
     "name": "stdout",
     "output_type": "stream",
     "text": [
      "Total supported languages: 151\n"
     ]
    }
   ],
   "source": [
    "print(f\"Total supported languages: {len(list(ws.Language))}\")"
   ]
  },
  {
   "cell_type": "markdown",
   "metadata": {},
   "source": [
    "## Codes"
   ]
  },
  {
   "cell_type": "code",
   "execution_count": 33,
   "metadata": {},
   "outputs": [
    {
     "name": "stdout",
     "output_type": "stream",
     "text": [
      "('A', '▄ ▄▄▄')\n",
      "('B', '▄▄▄ ▄ ▄ ▄')\n",
      "('C', '▄▄▄ ▄ ▄▄▄ ▄')\n",
      "('D', '▄▄▄ ▄ ▄')\n",
      "('E', '▄')\n",
      "('F', '▄ ▄ ▄▄▄ ▄')\n",
      "('G', '▄▄▄ ▄▄▄ ▄')\n",
      "('H', '▄ ▄ ▄ ▄')\n",
      "('I', '▄ ▄')\n",
      "('J', '▄ ▄▄▄ ▄▄▄ ▄▄▄')\n",
      "('K', '▄▄▄ ▄ ▄▄▄')\n",
      "('L', '▄ ▄▄▄ ▄ ▄')\n",
      "('M', '▄▄▄ ▄▄▄')\n",
      "('N', '▄▄▄ ▄')\n",
      "('O', '▄▄▄ ▄▄▄ ▄▄▄')\n",
      "('P', '▄ ▄▄▄ ▄▄▄ ▄')\n",
      "('Q', '▄▄▄ ▄▄▄ ▄ ▄▄▄')\n",
      "('R', '▄ ▄▄▄ ▄')\n",
      "('S', '▄ ▄ ▄')\n",
      "('T', '▄▄▄')\n",
      "('U', '▄ ▄ ▄▄▄')\n",
      "('V', '▄ ▄ ▄ ▄▄▄')\n",
      "('W', '▄ ▄▄▄ ▄▄▄')\n",
      "('X', '▄▄▄ ▄ ▄ ▄▄▄')\n",
      "('Y', '▄▄▄ ▄ ▄▄▄ ▄▄▄')\n",
      "('Z', '▄▄▄ ▄▄▄ ▄ ▄')\n"
     ]
    }
   ],
   "source": [
    "print(*ws.by_code(ws.LatinScriptCode.Morse)[\"Morse\"].items(), sep=\"\\n\")"
   ]
  },
  {
   "cell_type": "code",
   "execution_count": 34,
   "metadata": {},
   "outputs": [
    {
     "name": "stdout",
     "output_type": "stream",
     "text": [
      "('A', 'Alfa')\n",
      "('B', 'Bravo')\n",
      "('C', 'Charlie')\n",
      "('D', 'Delta')\n",
      "('E', 'Echo')\n",
      "('F', 'Foxtrot')\n",
      "('G', 'Golf')\n",
      "('H', 'Hotel')\n",
      "('I', 'India')\n",
      "('J', 'Juliett')\n",
      "('K', 'Kilo')\n",
      "('L', 'Lima')\n",
      "('M', 'Mike')\n",
      "('N', 'November')\n",
      "('O', 'Oscar')\n",
      "('P', 'Papa')\n",
      "('Q', 'Quebec')\n",
      "('R', 'Romeo')\n",
      "('S', 'Sierra')\n",
      "('T', 'Tango')\n",
      "('U', 'Uniform')\n",
      "('V', 'Victor')\n",
      "('W', 'Whiskey')\n",
      "('X', 'Xray')\n",
      "('Y', 'Yankee')\n",
      "('Z', 'Zulu')\n"
     ]
    }
   ],
   "source": [
    "print(*ws.by_code(ws.LatinScriptCode.NATO_Phonetic_Alphabet)[\"NATO_Phonetic_Alphabet\"].items(), sep=\"\\n\")"
   ]
  },
  {
   "cell_type": "markdown",
   "metadata": {},
   "source": [
    "# Other"
   ]
  },
  {
   "cell_type": "markdown",
   "metadata": {},
   "source": [
    "### List all languages, abjads, abugids, etc."
   ]
  },
  {
   "cell_type": "code",
   "execution_count": 36,
   "metadata": {},
   "outputs": [],
   "source": [
    "from enum import Enum"
   ]
  },
  {
   "cell_type": "code",
   "execution_count": 37,
   "metadata": {},
   "outputs": [
    {
     "name": "stdout",
     "output_type": "stream",
     "text": [
      "|Abkhazian|abk|\n",
      "|Afar|aar|\n",
      "|Afrikaans|afr|\n",
      "|Albanian|sqi|\n",
      "|Aleut|ale|\n",
      "|Amharic|amh|\n",
      "|Angika|anp|\n",
      "|Arabic|ara|\n",
      "|Arapaho|arp|\n",
      "|Armenian|arm|\n",
      "|Assamese|asm|\n",
      "|Avar|ava|\n",
      "|Avestan|ave|\n",
      "|Balochi|bal|\n",
      "|Bambara|bam|\n",
      "|Bashkir|bak|\n",
      "|Basque|baq|\n",
      "|Bavarian|bar|\n",
      "|Belarusian|bel|\n",
      "|Bislama|bis|\n",
      "|Boko|bqc|\n",
      "|Boro|brx|\n",
      "|Bosnian|bos|\n",
      "|Breton|bre|\n",
      "|Bulgarian|bul|\n",
      "|Buryat|bua|\n",
      "|Catalan|cat|\n",
      "|Chamorro|cha|\n",
      "|Chechen|che|\n",
      "|Cherokee|chr|\n",
      "|Chichewa|nya|\n",
      "|Chinese_Simplified|chi|\n",
      "|Chukchi|ckt|\n",
      "|Chuvash|chv|\n",
      "|Cimbrian|cim|\n",
      "|Cornish|cor|\n",
      "|Corsican|cos|\n",
      "|Cree|cre|\n",
      "|Croatian|hrv|\n",
      "|Czech|ces|\n",
      "|Danish|dan|\n",
      "|Dungan|dng|\n",
      "|Dutch|nld|\n",
      "|Dzongkha|dzo|\n",
      "|Elfdalian|ovd|\n",
      "|English|eng|\n",
      "|Esperanto|epo|\n",
      "|Estonian|est|\n",
      "|Ewe|ewe|\n",
      "|Faroese|fao|\n",
      "|Fijian|fij|\n",
      "|Finnish|fin|\n",
      "|Flemish|dut|\n",
      "|French|fra|\n",
      "|Georgian|kat|\n",
      "|German|deu|\n",
      "|Greek|gre|\n",
      "|Guarani|grn|\n",
      "|Haitian_Creole|hat|\n",
      "|Hausa|hau|\n",
      "|Hawaiian|haw|\n",
      "|Hebrew|heb|\n",
      "|Herero|her|\n",
      "|Hindi|hin|\n",
      "|Icelandic|isl|\n",
      "|Igbo|ibo|\n",
      "|Indonesian|ind|\n",
      "|Irish|gle|\n",
      "|Istro_Romanian|ruo|\n",
      "|Italian|ita|\n",
      "|Japanese|jpn|\n",
      "|Javanese|jav|\n",
      "|Jeju|jje|\n",
      "|Kabardian|kbd|\n",
      "|Kanuri|kau|\n",
      "|Kashubian|csb|\n",
      "|Kazakh|kaz|\n",
      "|Kinyarwanda|kin|\n",
      "|Kirghiz|kir|\n",
      "|Komi|kpv|\n",
      "|Korean|kor|\n",
      "|Kumyk|kum|\n",
      "|Kurmanji|kmr|\n",
      "|Latin|lat|\n",
      "|Latvian|lav|\n",
      "|Lezghian|lez|\n",
      "|Lingala|lin|\n",
      "|Lithuanian|lit|\n",
      "|Luganda|lug|\n",
      "|Luxembourgish|ltz|\n",
      "|Macedonian|mkd|\n",
      "|Malagasy|mlg|\n",
      "|Malay|may|\n",
      "|Malayalam|mal|\n",
      "|Maltese|mlt|\n",
      "|Manx|glv|\n",
      "|Maori|mao|\n",
      "|Mari|chm|\n",
      "|Marshallese|mah|\n",
      "|Moksha|mdf|\n",
      "|Moldovan|rum|\n",
      "|Mongolian|mon|\n",
      "|Mru|mro|\n",
      "|Nepali|nep|\n",
      "|Norwegian|nor|\n",
      "|Occitan|oci|\n",
      "|Oromo|orm|\n",
      "|Osage|osa|\n",
      "|Parthian|xpr|\n",
      "|Pashto|pus|\n",
      "|Persian|per|\n",
      "|Phoenician|phn|\n",
      "|Polish|pol|\n",
      "|Portuguese|por|\n",
      "|Punjabi_Gurmukhī|_pan|\n",
      "|Punjabi_Shahmukhi|pan|\n",
      "|Quechua|que|\n",
      "|Rohingya|rhg|\n",
      "|Russian|rus|\n",
      "|Samaritan|smp|\n",
      "|Samoan|smo|\n",
      "|Sango|sag|\n",
      "|Sanskrit|san|\n",
      "|Scottish_Gaelic|gla|\n",
      "|Serbian|srp|\n",
      "|Slovak|slo|\n",
      "|Slovenian|slv|\n",
      "|Somali|som|\n",
      "|Sorani|ckb|\n",
      "|Spanish|spa|\n",
      "|Sundanese|sun|\n",
      "|Swedish|swe|\n",
      "|Swiss_German|gsw|\n",
      "|Tajik|tgk|\n",
      "|Tatar|tat|\n",
      "|Turkish|tur|\n",
      "|Turkmen|tuk|\n",
      "|Tuvan|tyv|\n",
      "|Twi|twi|\n",
      "|Ugaritic|uga|\n",
      "|Ukrainian|ukr|\n",
      "|Uzbek|uzb|\n",
      "|Venda|ven|\n",
      "|Vengo|bav|\n",
      "|Volapük|vol|\n",
      "|Welsh|wel|\n",
      "|Wolof|wol|\n",
      "|Yakut|sah|\n",
      "|Yiddish|yid|\n",
      "|Zeeuws|zea|\n",
      "|Zulu|zul|\n"
     ]
    }
   ],
   "source": [
    "def get_supported_languages(enum_: Enum):    \n",
    "    supported_scripts = sorted(set([(e.name, e.value[0]) for e in enum_]))\n",
    "    for name, code in supported_scripts:\n",
    "        print(f\"|{name}|{code}|\")\n",
    "        \n",
    "get_supported_languages(ws.Language)  # Abjad, Abugida, ..., Syllabary, Logographic"
   ]
  },
  {
   "cell_type": "code",
   "execution_count": null,
   "metadata": {},
   "outputs": [],
   "source": []
  }
 ],
 "metadata": {
  "kernelspec": {
   "display_name": "Python 3 (ipykernel)",
   "language": "python",
   "name": "python3"
  },
  "language_info": {
   "codemirror_mode": {
    "name": "ipython",
    "version": 3
   },
   "file_extension": ".py",
   "mimetype": "text/x-python",
   "name": "python",
   "nbconvert_exporter": "python",
   "pygments_lexer": "ipython3",
   "version": "3.12.2"
  },
  "varInspector": {
   "cols": {
    "lenName": 16,
    "lenType": 16,
    "lenVar": 40
   },
   "kernels_config": {
    "python": {
     "delete_cmd_postfix": "",
     "delete_cmd_prefix": "del ",
     "library": "var_list.py",
     "varRefreshCmd": "print(var_dic_list())"
    },
    "r": {
     "delete_cmd_postfix": ") ",
     "delete_cmd_prefix": "rm(",
     "library": "var_list.r",
     "varRefreshCmd": "cat(var_dic_list()) "
    }
   },
   "types_to_exclude": [
    "module",
    "function",
    "builtin_function_or_method",
    "instance",
    "_Feature"
   ],
   "window_display": false
  }
 },
 "nbformat": 4,
 "nbformat_minor": 2
}
